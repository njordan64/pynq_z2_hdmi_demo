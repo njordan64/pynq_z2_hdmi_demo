{
 "cells": [
  {
   "cell_type": "code",
   "execution_count": null,
   "id": "f6db0ff1",
   "metadata": {},
   "outputs": [],
   "source": [
    "from pynq import Overlay, PL\n",
    "from pynq.lib.video import VideoMode\n",
    "\n",
    "PL.reset()"
   ]
  },
  {
   "cell_type": "code",
   "execution_count": null,
   "id": "20683319",
   "metadata": {},
   "outputs": [],
   "source": [
    "ol = Overlay(\"./simple_hdmi.bit\")"
   ]
  },
  {
   "cell_type": "code",
   "execution_count": null,
   "id": "731a6973",
   "metadata": {},
   "outputs": [],
   "source": [
    "mode = VideoMode(1280, 720, 24)\n",
    "ol.axi_vdma_0.writechannel.mode = mode\n",
    "ol.axi_vdma_0.writechannel.start()"
   ]
  },
  {
   "cell_type": "code",
   "execution_count": null,
   "id": "b42137bc",
   "metadata": {},
   "outputs": [],
   "source": [
    "frame = ol.axi_vdma_0.writechannel.newframe()\n",
    "frame.fill(0)\n",
    "frame.shape"
   ]
  },
  {
   "cell_type": "code",
   "execution_count": null,
   "id": "84401dae",
   "metadata": {},
   "outputs": [],
   "source": [
    "ol.axi_vdma_0.writechannel.writeframe(frame)"
   ]
  },
  {
   "cell_type": "code",
   "execution_count": null,
   "id": "eeae856d",
   "metadata": {},
   "outputs": [],
   "source": [
    "from PIL import Image\n",
    "import numpy as np\n",
    "\n",
    "img = Image.open('tree.jpg')\n",
    "img_data = np.asarray(img)\n",
    "img_data.shape\n",
    "\n",
    "for y in range(720):\n",
    "    for x in range(1280):\n",
    "        t = img_data[y, x, 0]\n",
    "        img_data[y, x, 0] = img_data[y, x, 2]\n",
    "        img_data[y, x, 2] = t\n",
    "\n",
    "np.copyto(frame, img_data)"
   ]
  },
  {
   "cell_type": "code",
   "execution_count": null,
   "id": "5a428bea",
   "metadata": {},
   "outputs": [],
   "source": [
    "#from time import sleep\n",
    "\n",
    "#end_val = 256\n",
    "#current_val = 0\n",
    "    \n",
    "#while True:\n",
    "#    sleep(1/20)\n",
    "    \n",
    "#    frame.fill(current_val)\n",
    "    \n",
    "#    current_val += 1\n",
    "#    if current_val == end_val:\n",
    "#        current_val = 0"
   ]
  },
  {
   "cell_type": "code",
   "execution_count": null,
   "id": "136ca614",
   "metadata": {},
   "outputs": [],
   "source": [
    "ol.axi_vdma_0.writechannel.stop()\n",
    "frame = None"
   ]
  },
  {
   "cell_type": "code",
   "execution_count": null,
   "id": "72f36754",
   "metadata": {},
   "outputs": [],
   "source": []
  }
 ],
 "metadata": {
  "kernelspec": {
   "display_name": "Python 3 (ipykernel)",
   "language": "python",
   "name": "python3"
  },
  "language_info": {
   "codemirror_mode": {
    "name": "ipython",
    "version": 3
   },
   "file_extension": ".py",
   "mimetype": "text/x-python",
   "name": "python",
   "nbconvert_exporter": "python",
   "pygments_lexer": "ipython3",
   "version": "3.10.4"
  }
 },
 "nbformat": 4,
 "nbformat_minor": 5
}
